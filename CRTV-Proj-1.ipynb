{
  "nbformat": 4,
  "nbformat_minor": 0,
  "metadata": {
    "colab": {
      "name": "Train a GPT-2 Text-Generating Model w/ GPU",
      "provenance": [],
      "collapsed_sections": []
    },
    "kernelspec": {
      "name": "python3",
      "display_name": "Python 3"
    },
    "accelerator": "GPU"
  },
  "cells": [
    {
      "cell_type": "code",
      "metadata": {
        "id": "KBkpRgBCBS2_",
        "colab": {
          "base_uri": "https://localhost:8080/"
        },
        "outputId": "3b8b045e-0f12-464a-a10b-502c9c727061"
      },
      "source": [
        "%tensorflow_version 1.x\n",
        "!pip install -q gpt-2-simple\n",
        "import gpt_2_simple as gpt2\n",
        "from datetime import datetime\n",
        "from google.colab import files"
      ],
      "execution_count": 1,
      "outputs": [
        {
          "output_type": "stream",
          "text": [
            "TensorFlow 1.x selected.\n",
            "  Building wheel for gpt-2-simple (setup.py) ... \u001b[?25l\u001b[?25hdone\n",
            "WARNING:tensorflow:\n",
            "The TensorFlow contrib module will not be included in TensorFlow 2.0.\n",
            "For more information, please see:\n",
            "  * https://github.com/tensorflow/community/blob/master/rfcs/20180907-contrib-sunset.md\n",
            "  * https://github.com/tensorflow/addons\n",
            "  * https://github.com/tensorflow/io (for I/O related ops)\n",
            "If you depend on functionality not listed there, please file an issue.\n",
            "\n"
          ],
          "name": "stdout"
        }
      ]
    },
    {
      "cell_type": "code",
      "metadata": {
        "id": "sUmTooTW3osf",
        "colab": {
          "base_uri": "https://localhost:8080/"
        },
        "outputId": "da2d307b-5d80-426d-b93c-a49eedefea00"
      },
      "source": [
        "!nvidia-smi"
      ],
      "execution_count": 2,
      "outputs": [
        {
          "output_type": "stream",
          "text": [
            "Sat Feb 20 20:56:39 2021       \n",
            "+-----------------------------------------------------------------------------+\n",
            "| NVIDIA-SMI 460.39       Driver Version: 460.32.03    CUDA Version: 11.2     |\n",
            "|-------------------------------+----------------------+----------------------+\n",
            "| GPU  Name        Persistence-M| Bus-Id        Disp.A | Volatile Uncorr. ECC |\n",
            "| Fan  Temp  Perf  Pwr:Usage/Cap|         Memory-Usage | GPU-Util  Compute M. |\n",
            "|                               |                      |               MIG M. |\n",
            "|===============================+======================+======================|\n",
            "|   0  Tesla T4            Off  | 00000000:00:04.0 Off |                    0 |\n",
            "| N/A   41C    P8     9W /  70W |      0MiB / 15109MiB |      0%      Default |\n",
            "|                               |                      |                  N/A |\n",
            "+-------------------------------+----------------------+----------------------+\n",
            "                                                                               \n",
            "+-----------------------------------------------------------------------------+\n",
            "| Processes:                                                                  |\n",
            "|  GPU   GI   CI        PID   Type   Process name                  GPU Memory |\n",
            "|        ID   ID                                                   Usage      |\n",
            "|=============================================================================|\n",
            "|  No running processes found                                                 |\n",
            "+-----------------------------------------------------------------------------+\n"
          ],
          "name": "stdout"
        }
      ]
    },
    {
      "cell_type": "code",
      "metadata": {
        "id": "P8wSlgXoDPCR",
        "colab": {
          "base_uri": "https://localhost:8080/"
        },
        "outputId": "661d980a-9ad0-4af7-dc24-4a815ed72b82"
      },
      "source": [
        "gpt2.download_gpt2(model_name=\"124M\")"
      ],
      "execution_count": 3,
      "outputs": [
        {
          "output_type": "stream",
          "text": [
            "Fetching checkpoint: 1.05Mit [00:00, 337Mit/s]                                                      \n",
            "Fetching encoder.json: 1.05Mit [00:00, 2.33Mit/s]\n",
            "Fetching hparams.json: 1.05Mit [00:00, 304Mit/s]                                                    \n",
            "Fetching model.ckpt.data-00000-of-00001: 498Mit [00:14, 34.3Mit/s]                                  \n",
            "Fetching model.ckpt.index: 1.05Mit [00:00, 611Mit/s]                                                \n",
            "Fetching model.ckpt.meta: 1.05Mit [00:00, 2.99Mit/s]\n",
            "Fetching vocab.bpe: 1.05Mit [00:00, 3.12Mit/s]\n"
          ],
          "name": "stderr"
        }
      ]
    },
    {
      "cell_type": "code",
      "metadata": {
        "id": "czKIxCI2ZXhi",
        "colab": {
          "base_uri": "https://localhost:8080/"
        },
        "outputId": "559a3995-a2c3-433a-ad82-e2d7ce9578e3"
      },
      "source": [
        "from google.colab import drive\n",
        "drive.mount('/content/drive')"
      ],
      "execution_count": 4,
      "outputs": [
        {
          "output_type": "stream",
          "text": [
            "Mounted at /content/drive\n"
          ],
          "name": "stdout"
        }
      ]
    },
    {
      "cell_type": "code",
      "metadata": {
        "id": "puq4iC6vUAHc",
        "colab": {
          "base_uri": "https://localhost:8080/"
        },
        "outputId": "5f1a3f4d-a405-4db1-fb32-24b57f101eaa"
      },
      "source": [
        "gpt2.mount_gdrive()"
      ],
      "execution_count": 5,
      "outputs": [
        {
          "output_type": "stream",
          "text": [
            "Drive already mounted at /content/drive; to attempt to forcibly remount, call drive.mount(\"/content/drive\", force_remount=True).\n"
          ],
          "name": "stdout"
        }
      ]
    },
    {
      "cell_type": "code",
      "metadata": {
        "id": "6OFnPCLADfll"
      },
      "source": [
        "file_name = \"Markovified-Text.txt\""
      ],
      "execution_count": 6,
      "outputs": []
    },
    {
      "cell_type": "code",
      "metadata": {
        "id": "-Z6okFD8VKtS"
      },
      "source": [
        "gpt2.copy_file_from_gdrive(file_name)"
      ],
      "execution_count": 7,
      "outputs": []
    },
    {
      "cell_type": "code",
      "metadata": {
        "id": "aeXshJM-Cuaf",
        "colab": {
          "base_uri": "https://localhost:8080/"
        },
        "outputId": "cf3b6b40-8a6e-47af-ed41-3607f265fdca"
      },
      "source": [
        "sess = gpt2.start_tf_sess()\n",
        "\n",
        "gpt2.finetune(sess,\n",
        "              dataset=file_name,\n",
        "              model_name='124M',\n",
        "              steps=1000,\n",
        "              restore_from='fresh',\n",
        "              run_name='run1',\n",
        "              print_every=10,\n",
        "              sample_every=200,\n",
        "              save_every=500\n",
        "              )"
      ],
      "execution_count": 8,
      "outputs": [
        {
          "output_type": "stream",
          "text": [
            "WARNING:tensorflow:From /usr/local/lib/python3.6/dist-packages/gpt_2_simple/src/sample.py:17: where (from tensorflow.python.ops.array_ops) is deprecated and will be removed in a future version.\n",
            "Instructions for updating:\n",
            "Use tf.where in 2.0, which has the same broadcast rule as np.where\n",
            "Loading checkpoint models/124M/model.ckpt\n",
            "INFO:tensorflow:Restoring parameters from models/124M/model.ckpt\n"
          ],
          "name": "stdout"
        },
        {
          "output_type": "stream",
          "text": [
            "100%|██████████| 1/1 [00:00<00:00,  8.44it/s]"
          ],
          "name": "stderr"
        },
        {
          "output_type": "stream",
          "text": [
            "Loading dataset...\n",
            "dataset has 12835 tokens\n",
            "Training...\n"
          ],
          "name": "stdout"
        },
        {
          "output_type": "stream",
          "text": [
            "\n"
          ],
          "name": "stderr"
        },
        {
          "output_type": "stream",
          "text": [
            "[10 | 28.40] loss=3.53 avg=3.53\n",
            "[20 | 49.83] loss=2.80 avg=3.16\n",
            "[30 | 71.51] loss=2.16 avg=2.83\n",
            "[40 | 93.42] loss=1.32 avg=2.44\n",
            "[50 | 115.53] loss=0.50 avg=2.05\n",
            "[60 | 137.86] loss=0.25 avg=1.74\n",
            "[70 | 160.36] loss=0.17 avg=1.51\n",
            "[80 | 182.90] loss=0.06 avg=1.32\n",
            "[90 | 205.54] loss=0.05 avg=1.17\n",
            "[100 | 228.32] loss=0.03 avg=1.06\n",
            "[110 | 251.21] loss=0.03 avg=0.96\n",
            "[120 | 274.15] loss=0.03 avg=0.88\n",
            "[130 | 297.20] loss=0.02 avg=0.81\n",
            "[140 | 320.36] loss=0.02 avg=0.75\n",
            "[150 | 343.59] loss=0.02 avg=0.69\n",
            "[160 | 366.89] loss=0.02 avg=0.65\n",
            "[170 | 390.30] loss=0.02 avg=0.61\n",
            "[180 | 413.78] loss=0.02 avg=0.57\n",
            "[190 | 437.29] loss=0.01 avg=0.54\n",
            "[200 | 460.88] loss=0.02 avg=0.51\n",
            "======== SAMPLE 1 ========\n",
            " a more balanced diet and avoid the thoughts of the past, nor the sufferings of the wicked, nor the sadness of the earth, but was instead a series of small steps.\n",
            "• See the difference between big problem, and small cattle above all that he is in.\n",
            "A fool also is vexation of spirit.\n",
            "The medical treatment for them, if successful, would mean restricting their diet and/or training them to do so.\n",
            "They will continue to do that, and if everyone was represented in the house of mirth.\n",
            "They are growing new ideas and thoughts swirling throughout your brain all day.\n",
            "See it in your life?\n",
            "• Mareant to the king is a part of the rich will get a good name.\n",
            "As long as I can hope for.\n",
            "Does he want to live.\n",
            "Awareness is the end of the hands the house of mirth.\n",
            "I felt like crap.\n",
            "• Mare a postman beget a post, and then jump into motivating my childlike wonder.\n",
            "As long as I can hope for.\n",
            "Does he want to be able to channel your life make finding balance a much more to do the things that increase vanity, what is man the better?\n",
            "He decided to pursue our various interests.\n",
            "One clue that you can change overtime, I also feel balanced.\n",
            "To every thing there is not to our liking, we do and the wind whispering through the multitude of business; and a time to regroup, relax and possibly write a list to keep the king's commandment, and that was here before we came into this initiative with both feet, because I have started to believe it has become a wallowing session, and you have to tease yourself out of a mental decision than a few minutes to define what she has consumed the sweets.\n",
            "Since we live in an evil time, when it comes down to watch your favorite television program, is this in crystal clear light… If a man that is mightier than he.\n",
            "The sun also ariseth, and the type of support we choose.\n",
            "I know that every few days without spending significant time with.\n",
            "Two are better than strength: nevertheless the poor man's wisdom is a non-renewable resource, if you don’t have to do this.\n",
            "See it in your life?\n",
            "• Mareant Our childlike wonder.\n",
            "By spending less per meal then I would be to get out of the afternoon.\n",
            "I commute by walking, cycling, carrying water bottle, and when I'm not feeling well, I’m out of whack and we planted trees.\n",
            "For a brief moment, a moment I of wonderment, because the law is deceit.\n",
            "She will never have to have to take these steps to solve the real needs of the eyes than the living?\n",
            "Wash your hands and let the wind whisper through the multitude of business; and a time to regroup, relax and possibly write a list to keep the king's commandment, and that was here before we came into this initiative with both feet, because I have started to believe it has become a wallowing session, and you have to define what comes next.\n",
            "Finding Balance Between Creativity and Family – By Kathy Hendershot-Hurd, Virtual Impax Entrepreneurship & Family Fun is Fun, But Not as a Result of It We think that perhaps we need to gain weight.\n",
            "If you are not focusing on time spent on certain activities, provides me the insight I need a break.\n",
            "I want this kind of prison for us, restricting us to do what you want.\n",
            "What’s the point of really integrating the energies and are happier in supportive relationships.\n",
            "I love Wayne Dyer’s philosophy that he have to serve as a product manager balance to keep the clock ticking.\n",
            "Therefore I hated all my labour which I took under the sun, as an error which proceedeth from the place from whence the rivers run into the sea; yet the sea is not full; unto the place of the wicked; to the environment through touch, heat, movement.\n",
            "It is better than strength: nevertheless the poor man's wisdom is a non-renewable resource, if you don’t have to do this.\n",
            "By much slothfulness the building decayeth; and through idleness of the righteous: I said in mine heart, Go to now, I head for the body and if the tree fall toward the north, in the day of prosperity be joyful, but in the sight of the universe it is very important when doing these tasks as well.\n",
            "The only thing that brings him money.\n",
            "If you have on your choices, and you have an upcoming family trip.\n",
            "Then said I, Wisdom is good in his stead.\n",
            "He hath made crooked?\n",
            "Blessed art thou, O land, when thy king is the sinner; and he that cleaveth wood shall be upon the earth: and if the activities in your life is severely off balance\n",
            "\n",
            "[210 | 494.77] loss=0.03 avg=0.49\n",
            "[220 | 518.33] loss=0.02 avg=0.46\n",
            "[230 | 541.96] loss=0.02 avg=0.44\n",
            "[240 | 565.63] loss=0.02 avg=0.42\n",
            "[250 | 589.35] loss=0.02 avg=0.40\n",
            "[260 | 613.07] loss=0.02 avg=0.39\n",
            "[270 | 636.85] loss=0.02 avg=0.37\n",
            "[280 | 660.62] loss=0.02 avg=0.36\n",
            "[290 | 684.38] loss=0.02 avg=0.34\n",
            "[300 | 708.16] loss=0.02 avg=0.33\n",
            "[310 | 731.92] loss=0.02 avg=0.32\n",
            "[320 | 755.71] loss=0.01 avg=0.31\n",
            "[330 | 779.40] loss=0.02 avg=0.30\n",
            "[340 | 803.04] loss=0.02 avg=0.29\n",
            "[350 | 826.65] loss=0.01 avg=0.28\n",
            "[360 | 850.28] loss=0.01 avg=0.27\n",
            "[370 | 873.96] loss=0.02 avg=0.26\n",
            "[380 | 897.64] loss=0.02 avg=0.25\n",
            "[390 | 921.26] loss=0.02 avg=0.25\n",
            "[400 | 944.87] loss=0.01 avg=0.24\n",
            "======== SAMPLE 1 ========\n",
            " thinking he have it all — from the beginning to the end of a happy and successful life.\n",
            "That which is done under the sun.\n",
            "The little action steps here might redefine the situation physically, mentally and emotionally refreshed.\n",
            "I awoke from the ruler: Folly is set in great dignity, and the more we pushed, the faster it went until the end that man should rejoice in his own hurt.\n",
            "It is stranger than we can speed things up.\n",
            "We truly are strangers in a positive attitude, find the silver cord be loosed, or the moon, or the wheel of life balance be if we could have fun.\n",
            "You see, you are sitting down to it, nor any fictional character who has achieved this ideal.\n",
            "For who can tell a man is sweet, and a threefold cord is not satisfied with seeing, nor the clouds be full of activities, and was so busy that she is telling herself it is not based on this criterion, you’ll be better able to really think beyond that since the physical changes needed to take care of himself.\n",
            "What it means to us individually.\n",
            "I can become quite overwhelmed with what this means for you, then you will not bring it.\n",
            "Responding to people that we - the feel good substance -which reduces stress, depression and anxiety.\n",
            "I know some may have lost our childlike wonder.\n",
            "I work hard to incorporate my needs and passions into my 40s, I found myself turning to astrology for understanding.\n",
            "Then you can hold on and about balancing these three myths create havoc and confusion.\n",
            "The best part is, you’ll have fun for a couple of times in week and also to eight; for thou knowest not the fact that I had lots of past lives being at home and mind are cluttered.\n",
            "He owned his own flesh.\n",
            "Not all work activities are essential in your life is truly one of definition.\n",
            "Then I returned, and saw under the sun: and behold the tears of such as were oppressed, and they clearly described how to regain my balance and what good is there no end of all the works that are caught in the morning!\n",
            "I should leave it unto the man that is mightier than he.\n",
            "• Integrate your passions with your kids, and after that they go to the ill effects of sugar.\n",
            "Which of those decisions.\n",
            "For those who do not have given the subject much thought.\n",
            "By spending less per meal then I would be to get them to do that.\n",
            "Awareness is the cause and keep his commandments: for this is the end of his retirement was over, my Daddy was a little city, and few men within it; and whoso breaketh an hedge, a serpent shall bite him.\n",
            "I can remember I have so many roles to fill, from being a good reward for their labour.\n",
            "Life is 10% what we want happen.\n",
            "All that cometh after the rain: In the day of death than the beginning to the quiet wisdom within us and we hurt.\n",
            "I make sure that she is creating.\n",
            "His hours were long, but he is in.\n",
            "A minute is still 24 hours in a constant state of inner drive, but I’ve never been achievement oriented…except when I wanted to live deeply and find contentment from it • Flexible in dealing with whatever you are in the 10th house and my passions in the third stage of womanhood, The Crone, having passed successfully through Maid and Mother.\n",
            "A rhythm to life, just as she would talk about how to reach their goal.\n",
            "Be not rash with thy mouth, and yet the appetite is not enough time in my visual field or the stars, be not filled with good, and also to whom God hath given him power to eat just a couple of years now, and here are the six aspects of life.\n",
            "I have not been able to deal with her issue.\n",
            "Does she want to create that space, go away and have many friends, family and have gotten more wisdom than all that were before me in Jerusalem: also my wisdom remained with me.\n",
            "Maybe I’m just built this way - a thing that hath power over the long run you can slowly get out of the evening.\n",
            "This also is full of evil, and madness is in reputation for wisdom and honour.\n",
            "Give a portion for ever in any thing whereof it may be poor but he is contented.\n",
            "The maximum is the whole matter: Fear God, and keep repeating our mistakes.\n",
            "Tom Volkar’s whole blog Delightful Work is devoted to showing you how to regain my balance and control and more fun!\n",
            "Life has a spirit/soul that is higher than they.\n",
            "Always let the people I would NEVER be happy.\n",
            "For to him that is making me feel like crap and my pre-natal lunar eclipse in Leo in the days of their existence in our lives, to this might differ - so be aware of these components are to manage\n",
            "\n",
            "[410 | 977.78] loss=0.01 avg=0.23\n",
            "[420 | 1001.40] loss=0.01 avg=0.23\n",
            "[430 | 1025.04] loss=0.01 avg=0.22\n",
            "[440 | 1048.72] loss=0.02 avg=0.22\n",
            "[450 | 1072.46] loss=0.01 avg=0.21\n",
            "[460 | 1096.22] loss=0.01 avg=0.20\n",
            "[470 | 1119.97] loss=0.01 avg=0.20\n",
            "[480 | 1143.70] loss=0.02 avg=0.19\n",
            "[490 | 1167.36] loss=0.02 avg=0.19\n",
            "[500 | 1191.05] loss=0.01 avg=0.19\n",
            "Saving checkpoint/run1/model-500\n",
            "[510 | 1217.28] loss=0.02 avg=0.18\n",
            "[520 | 1240.91] loss=0.01 avg=0.18\n",
            "[530 | 1264.69] loss=0.02 avg=0.17\n",
            "[540 | 1288.29] loss=0.02 avg=0.17\n",
            "[550 | 1311.99] loss=0.01 avg=0.17\n",
            "[560 | 1335.79] loss=0.02 avg=0.16\n",
            "[570 | 1359.52] loss=0.01 avg=0.16\n",
            "[580 | 1383.10] loss=0.02 avg=0.16\n",
            "[590 | 1406.74] loss=0.02 avg=0.15\n",
            "[600 | 1430.43] loss=0.01 avg=0.15\n",
            "======== SAMPLE 1 ========\n",
            " that is so satisfying.\n",
            "And fill it I thought.\n",
            "But the onset of the times Black Friday was certainly not in our lives with a negative view.\n",
            "Maybe I am just built this way - a thing that hath power over the long run you can slowly get out of the evening.\n",
            "This also is full of evil, and madness is in reputation for wisdom and honour.\n",
            "Give a portion for ever in any thing whereof it may be poor but he is contented.\n",
            "The maximum is the whole matter: Fear God, and keep repeating our mistakes.\n",
            "Tom Volkar’s whole blog Delightful Work is devoted to showing you how to regain my balance and control and more fun!\n",
            "Life has a spirit/soul that is higher than they.\n",
            "Always let the people I would NEVER be happy.\n",
            "For to him that is making me feel like crap and my pre-natal lunar eclipse in Leo in the days of their existence in our lives, to this might differ - so be aware of these components are to manage our time, balance our like people riding bicycles.\n",
            "I’ve never had that problem as an error which proceedeth from the big, wide world in their actions.\n",
            "What are you going through the eyes than the fool? what hath the poor, that knoweth to walk before the living?\n",
            "It certainly isn’t human nature to find the silver cord be loosed, or the moon, or the stars, be not darkened, nor the ear filled with good, and also that come after shall not sow; and he that sweareth, as he came, and shall take nothing of his consciousness.\n",
            "I have seen: it is his portion.\n",
            "The usual advice of envisioning your ideal future and setting goals to achieve success in your life will not suffer him to a conclusion that makes some sense to give each area deserving work and my family, sometimes I preferred to be accomplished.\n",
            "Wisdom strengtheneth the wise man? as the fool.\n",
            "We are overwhelmed by the way, his wisdom faileth him, and he shall not reap.\n",
            "And how dieth the wise is in the hand of God: no man can find out the best I can focus on the thing.\n",
            "What’s the point of really integrating the energies and are happier in supportive relationships.\n",
            "Awakening To a Balance announced the Life Balance Amidst Chaos — By Prem Rao, People at Work & Play I wonder if you wish you had done me wrong on the intensity of your life.\n",
            "For something that we don’t want to start my own spin on the roads.\n",
            "Consider the work of the eyes than the living which walk under the sun?\n",
            "There is so much with it.\n",
            "My emotional will be an ever changing experience.\n",
            "Keep thy foot when thou shalt say, I have been overeating over the spirit of the article I wasn’t letting the creativity flow.\n",
            "It is mad: and of the oath of God.\n",
            "• What choices are you going through something a lot these days I work more than a dead lion.\n",
            "My mom, my husband, my kids and she can reduce the clutter in her home.\n",
            "Refresh Again — By Shamelle, The Enhanced Life Just as it seems like she is having a hard time controlling her actions.\n",
            "To me, being a die-hard independent; a woman who had been what we do, how we take it, and built great bulwarks against it: Now there was power; but they had no comforter; and on the problem.\n",
            "Illness can come from love and be love to do what you eat.\n",
            "You can have the energy to put at least 10% of your life, that balance may vary for each individual, but one aspect most people agree on is that they might see that the problem temporarily and accepted your situation, take a few lessons I’ve learned the hard way.\n",
            "For if they happened at night, and after awhile, dried up to your senses and they had so done: this is a defence: but the abundance of trees in them of all his labour that he is a child, and thy princes eat in the snare; so are the ones that will support you when you are probably doing something wrong.\n",
            "With a little put off.\n",
            "I have Mars in Cancer, the moon’s North Node in the name of work-life balance, one does involve in other people’s lives.\n",
            "Balance is a quick comparison and contrast of what effect your choices are you most grateful for?\n",
            "When you are juggling a whole new way to balance life, it is really enjoying any of the foolish wearieth every one of our life so that no man can find it out?\n",
            "He that observeth the wind returneth again according to the see saw.\n",
            "Again, I considered in my life.\n",
            "But he realized that I had been completely self- driven for 14 years, to a man what shall be a total chaos in all aspects\n",
            "\n",
            "[610 | 1463.40] loss=0.01 avg=0.15\n",
            "[620 | 1487.13] loss=0.01 avg=0.14\n",
            "[630 | 1510.87] loss=0.01 avg=0.14\n",
            "[640 | 1534.62] loss=0.01 avg=0.14\n",
            "[650 | 1558.32] loss=0.01 avg=0.14\n",
            "[660 | 1581.95] loss=0.01 avg=0.13\n",
            "[670 | 1605.65] loss=0.01 avg=0.13\n",
            "[680 | 1629.26] loss=0.01 avg=0.13\n",
            "[690 | 1652.89] loss=0.01 avg=0.13\n",
            "[700 | 1676.51] loss=0.01 avg=0.12\n",
            "[710 | 1700.10] loss=0.01 avg=0.12\n",
            "[720 | 1723.74] loss=0.01 avg=0.12\n",
            "[730 | 1747.43] loss=0.01 avg=0.12\n",
            "[740 | 1771.17] loss=0.01 avg=0.12\n",
            "[750 | 1794.93] loss=0.02 avg=0.11\n",
            "[760 | 1818.70] loss=0.01 avg=0.11\n",
            "[770 | 1842.47] loss=0.01 avg=0.11\n",
            "[780 | 1866.20] loss=0.01 avg=0.11\n",
            "[790 | 1889.88] loss=0.01 avg=0.11\n",
            "[800 | 1913.52] loss=0.02 avg=0.10\n",
            "======== SAMPLE 1 ========\n",
            " an inter-dependant state.\n",
            "Even though all of these well, shouldn’t you be balanced physically.\n",
            "Thinking a whole new way to assure a positive attitude, find the balance in your life that are done under the sun is grievous unto me: There was a young son and he by his wisdom delivered the city; yet no man that goeth upward, and the strong men shall bow themselves, and the delights of the wicked; again, there be higher than the living will lay it to their lives and their hatred, and their hatred, and their hatred, and their works, are in the city where they had no comforter.\n",
            "So it has become a drag and have it DO anything was both a marvel and an active Group Writing Project, home owner, inventor actively working on it much until now.\n",
            "The one thing that brings him money.\n",
            "There is a time to put food on the labour of the fool walketh in darkness: and I would even go so far my ideal picture of the wise, nor yet favour to men of understanding, nor yet favour to men of skill; but time and judgment.\n",
            "All around, where I’m at currently in my own small child hands.\n",
            "And moreover, because the work of thine eyes: but know thou, that for all is vanity and vexation of his vain life which he taketh under the sun.\n",
            "Truly the light is sweet, whether he shall be well with them that see the error of my neighbors.\n",
            "I know for sure is that is good in his life.\n",
            "As I mentioned earlier, when we are not feeling fulfilled we unconsciously try to find ways to bring us into balance.\n",
            "Aerobic exercise releases endorphins - the intelligent, tired, and bored people of the provinces: I gat me men singers and women singers, and the whims and satisfaction of clients, it has been shown to be thrown off.\n",
            "For me, the drive to create that space, go away and have always tried to stand on one end, my best friend on the needs of all his labour which I feel frustrated.\n",
            "In this dream I was just an emotionless blob.\n",
            "For what hath the wise man? as the wise more than all they that have been before them: they also that every one that is born in my life.\n",
            "We try to juggle and toss up there faster than she could.\n",
            "Write down your life and work on finding the emotional motivators behind her discipline for exercise.\n",
            "Think of times in week and also that he never took time for himself.\n",
            "Maybe I couldn’t see around the house, Stacey is the end of all men; and the grasshopper shall be taken by her.\n",
            "Here is a happy core based on this exercise work is always good.\n",
            "Then I looked into Coaching and lurked in a strange land.\n",
            "I know I need a list of everyone in the afternoon, you can create financial security.\n",
            "Have you ever considered the highlight of the beast that goeth upward, and the end of all that dough, you can have lunch with my current responsibilities and the peculiar treasure of kings and of the poor, and violent perverting of judgment and justice in a positive way and I didn’t always do it… sometimes I need to focus on balancing different areas of your life.\n",
            "Lo, this only have I seen also under the sun.\n",
            "We’re too busy because we realized it was a successful man.\n",
            "Where would life balance means different things to all the days of their existence in our fifties.\n",
            "Financial – We are out of balance.\n",
            "I envy aspects of our time to die; a time to be exercised in it.\n",
            "Yea, I hated life; because the preacher was wise, he still taught the people knowledge; yea, he hath much sorrow and wrath with his sickness.\n",
            "What profit hath a man of all the days and enjoy life more.\n",
            "Here is a kind of prison he cometh to reign; whereas also he that is in the streets, when the sound of the lightning bugs would always end our playground follies and bring us back to step back and simplify my life than how I felt.\n",
            "The signaling glow of the earth as it was: and the patient in spirit is not satisfied with seeing, nor the years draw nigh, when thou shalt say, I have a good night’s sleep.\n",
            "For man also knoweth not that which hath been already of old times.\n",
            "Then I said in my house; also I saw, that it was far from me.\n",
            "While I always anticipated taking time to enjoy and savor what you desire.\n",
            "And, if you don’t have trouble motivating myself, assuming it’s something that seems so self-evident to most people, your 9-5 turns into a screaming, laughing heap.\n",
            "A fool also is vanity and a time to kill, and a time to detach.\n",
            "I wanted\n",
            "\n",
            "[810 | 1946.44] loss=0.01 avg=0.10\n",
            "[820 | 1970.04] loss=0.01 avg=0.10\n",
            "[830 | 1993.66] loss=0.01 avg=0.10\n",
            "[840 | 2017.40] loss=0.02 avg=0.10\n",
            "[850 | 2041.10] loss=0.01 avg=0.10\n",
            "[860 | 2064.83] loss=0.02 avg=0.10\n",
            "[870 | 2088.58] loss=0.01 avg=0.09\n",
            "[880 | 2112.33] loss=0.02 avg=0.09\n",
            "[890 | 2136.09] loss=0.01 avg=0.09\n",
            "[900 | 2159.85] loss=0.01 avg=0.09\n",
            "[910 | 2183.58] loss=0.01 avg=0.09\n",
            "[920 | 2207.25] loss=0.01 avg=0.09\n",
            "[930 | 2230.88] loss=0.01 avg=0.09\n",
            "[940 | 2254.50] loss=0.01 avg=0.08\n",
            "[950 | 2278.17] loss=0.01 avg=0.08\n",
            "[960 | 2301.86] loss=0.01 avg=0.08\n",
            "[970 | 2325.58] loss=0.01 avg=0.08\n",
            "[980 | 2349.36] loss=0.01 avg=0.08\n",
            "[990 | 2373.12] loss=0.01 avg=0.08\n",
            "[1000 | 2396.81] loss=0.01 avg=0.08\n",
            "Saving checkpoint/run1/model-1000\n",
            "WARNING:tensorflow:From /tensorflow-1.15.2/python3.6/tensorflow_core/python/training/saver.py:963: remove_checkpoint (from tensorflow.python.training.checkpoint_management) is deprecated and will be removed in a future version.\n",
            "Instructions for updating:\n",
            "Use standard file APIs to delete files with this prefix.\n"
          ],
          "name": "stdout"
        }
      ]
    },
    {
      "cell_type": "code",
      "metadata": {
        "id": "VHdTL8NDbAh3"
      },
      "source": [
        "gpt2.copy_checkpoint_to_gdrive(run_name='run1')"
      ],
      "execution_count": 16,
      "outputs": []
    },
    {
      "cell_type": "code",
      "metadata": {
        "id": "DCcx5u7sbPTD"
      },
      "source": [
        "gpt2.copy_checkpoint_from_gdrive(run_name='run1')"
      ],
      "execution_count": 11,
      "outputs": []
    },
    {
      "cell_type": "code",
      "metadata": {
        "id": "-fxL77nvAMAX",
        "outputId": "3d9a28d5-59de-40df-f91f-0c3a57e71730",
        "colab": {
          "base_uri": "https://localhost:8080/"
        }
      },
      "source": [
        "import tensorflow as tf\n",
        "tf.reset_default_graph()\n",
        "sess = gpt2.start_tf_sess()\n",
        "gpt2.load_gpt2(sess, run_name='run1')"
      ],
      "execution_count": 19,
      "outputs": [
        {
          "output_type": "stream",
          "text": [
            "Loading checkpoint checkpoint/run1/model-1000\n",
            "INFO:tensorflow:Restoring parameters from checkpoint/run1/model-1000\n"
          ],
          "name": "stdout"
        }
      ]
    },
    {
      "cell_type": "code",
      "metadata": {
        "id": "8DKMc0fiej4N",
        "colab": {
          "base_uri": "https://localhost:8080/"
        },
        "outputId": "ad66ba58-c6f8-4c1b-a538-8a88cf0f2d48"
      },
      "source": [
        "gpt2.generate(sess,\n",
        "              length=1000,\n",
        "              temperature=0.5,\n",
        "              prefix=\"Finality.\",\n",
        "              nsamples=5,\n",
        "              batch_size=5\n",
        "              )"
      ],
      "execution_count": 39,
      "outputs": [
        {
          "output_type": "stream",
          "text": [
            "Finality.\n",
            "A healthy mind is one alone, and there is one that he have no burial; I say, that an untimely birth is better to go with my family time, and work every day • Reach beyond limitations • Take pride in your life together.\n",
            "Next time you get a good place.\n",
            "Talk to family about what emotional balance means balancing the demands of being everything to raise my son.\n",
            "Where the word of a mental decision than a dead lion.\n",
            "My sister and I myself perceived also that come with motherhood.\n",
            "How successful do you find it out?\n",
            "It’s not my heart to give 100 percent of the Monkey bars.\n",
            "They naturally support and feed each other and you have lots of reasons to avoid something else and not staying late is another thing I remembered before waking from a perspective that will mean more emphasis on time spent on certain activities, provides me the insight I need life balance means to us individually.\n",
            "I cannot control the ups and downs – happiness/sadness, busy times/slow times.\n",
            "We are growing new ideas and thoughts swirling throughout your brain all day.\n",
            "Acting on it is the point of really integrating the energies and are happier in supportive relationships.\n",
            "This step is connected to others, and between the two things, I began to connect with other authentic human beings in communion with other authentic human beings in communion with other people really well.\n",
            "I carry water bottle with me at all but rather your link with the wife whom thou lovest all the works that are given to the rest of us will give up.\n",
            "You do not all go through a problem it is that it is his eye satisfied with seeing, nor the ear filled with good, and sinneth not.\n",
            "Fast forward just a small and beautiful change in routine often comes along with solutions to your emotional body, and allow it to his own flesh.\n",
            "When I fight them, I’m out of whack and we planted trees.\n",
            "I still remember where I was not alone and eventually found our way back to my calm self and the reason of things, and to the ill effects of sugar and hang on to it to his own flesh.\n",
            "In looking back, I can’t help but think I’m in region 4.\n",
            "We must ALSO build in times for our kids which helps them gain responsibility and keep repeating our mistakes.\n",
            "I knew I liked him, I suppose, but I was very young, random phrases have struck me as a shadow? for who shall bring every work that is the end of the hands the house of mourning; but the lips of a king is, there is power: and who knoweth the interpretation of a king is, there is a myth.\n",
            "We are creatures created to move, not to the middle.\n",
            "Does he want to do as you go along.\n",
            "Aerobic exercise releases endorphins - the intelligent, tired, and bored people of the windows be darkened, And the really neat thing is, that wisdom giveth life to them and make sure you are a part of life.\n",
            "• Integrate your passions with your values and priorities?\n",
            "If the spirit to retain the spirit; neither hath he that sweareth, as he came, so shall he go: and what brings money.\n",
            "The next two steps are ones that require the longest time to each of the wise more than I?\n",
            "My personal favorite piece of equipment was the giant screen above it.\n",
            "Be not rash with thy mouth, and yet the sea is not easy to understand, but can be a burden, and desire shall fail: because man goeth to his own hurt.\n",
            "Body is our mental/psychological/emotional needs.\n",
            "Some days that will not work.\n",
            "• Stay aware of present, I try my best is good with an emotional commitment to all this, spending time with them.\n",
            "It’s because we are aware of wonder.\n",
            "If things are going to bed and tidy up.\n",
            "You don’t have trouble motivating myself, assuming it’s something that I can, and for once maybe I don't suck so badly at Life Balance Group Writing Project, home owner, inventor actively working on this criterion, you’ll be better able to deal with the wicked, neither be thou foolish: why shouldest thou destroy thyself?\n",
            "I love networking and being guided by your higher self.\n",
            "All that cometh after the king? even that which shall be changed.\n",
            "Every one of definition.\n",
            "The maximum is the gift of God.\n",
            "Our heart is at his right hand; but a woman among all things that are not in thy bedchamber: for a man to whom God hath given him power to make a list of how you talk and think.\n",
            "This freed me up to 3 days.\n",
            "My sister wasn’t failing every time she fell off of the rich\n",
            "====================\n",
            "Finality.\n",
            "For something that we don’t want to start my own spin on the roads.\n",
            "Consider the work of the eyes than the living which walk under the sun?\n",
            "There is so much with it.\n",
            "My emotional will be an ever changing experience.\n",
            "Keep thy foot when thou shalt say, I have been overeating over the spirit of the article I wasn’t letting the creativity flow.\n",
            "It is mad: and of the oath of God.\n",
            "• What choices are you going through something a lot these days I work more than a dead lion.\n",
            "My mom, my husband, my kids and she can reduce the clutter in her home.\n",
            "Refresh Again — By Shamelle, The Enhanced Life Just as it seems like she is having a hard time controlling her actions.\n",
            "To me, being a die-hard independent; a woman who had been what we do, how we take it, and built great bulwarks against it: Now there was power; but they had no comforter; and on the problem.\n",
            "Illness can come from love and be love to do what you eat.\n",
            "You can have the energy to put at least 10% of your life, that balance may vary for each individual, but one aspect most people agree on is that they might see that the problem temporarily and accepted your situation, take a few lessons I’ve learned the hard way.\n",
            "For if they happened at night, and after awhile, dried up to your senses and they had so done: this is a defence: but the abundance of trees in them of all his labour that he is a child, and thy princes eat in the snare; so are the ones that will support you when you are probably doing something wrong.\n",
            "With a little put off.\n",
            "I have Mars in Cancer, the moon’s North Node in the name of work-life balance, one does involve in other people’s lives.\n",
            "Balance is a quick comparison and contrast of what effect your choices are you most grateful for?\n",
            "When you are juggling a whole new way to balance life, it is really enjoying any of the foolish wearieth every one of our life so that no man can find it out?\n",
            "He that observeth the wind returneth again according to the see saw.\n",
            "Again, I considered in my life.\n",
            "But he realized that I had been completely self- driven for 14 years, to a man what shall be a total chaos in all aspects of your problem.\n",
            "This also is vanity.\n",
            "I have seen under the sun: and behold the sun: and behold the tears of such as were oppressed, and they were forgotten in the days of thy youth, while the evil days come not, nor the clouds shall not reap.\n",
            "Each child gets to choose just one thing, we could have spent more hours at his right hand; but a fool's voice is known that it never grips you enough to implement first.\n",
            "We have created this world and yet other days more focus will be many things that drain your energy is going to disrupt the balance in our lives.\n",
            "Voice the emotions and use them appropriately.\n",
            "I still live below my means and take great pleasure in them; While the sun, and it is just the surface of life balance.\n",
            "There is an handful with quietness, than both the hands the house of God, and be love to do it that thou shouldest not vow, than that a solution will come.\n",
            "I think that what we’re all seeking is a topic that I did some really good, creative, performance-type work in progress.\n",
            "Is Life Balance — By Jean, Stress to Power Our lives are balanced.\n",
            "There is one of joy and bliss that we do it, when and where you want – slowly and one at a time, your best work is part of the Midlife Crisis Here's a little girl, I loved to do.\n",
            "What matters is not sustainable.\n",
            "Emotional – We go to the environment through touch, heat, movement.\n",
            "I wanted to go for a bird of the things that are done dealing with this situation.\n",
            "She is not balanced, sooner or later it will impact our life requires more attention than other.\n",
            "And this also is a wicked man that prolongeth his life in his own flesh.\n",
            "Without taking the responsibility to make decisions for you, then you will keep trying to get very clear about what emotional balance for reasons that include: Ups and Downs.\n",
            "Be not rash with thy might; for there is a child, and thy princes eat in the process.\n",
            "This is a defence: but the wheel of life balance.\n",
            "How do you think this framework applies in your life, an important aspect to balancing life is that life balance be, if we are giving each area the necessary devotion so that he is in.\n",
            "How could I write about living a balanced diet would\n",
            "====================\n",
            "Finality.\n",
            "For something that we don’t want to start my own spin on the roads.\n",
            "Consider the work of the eyes than the living which walk under the sun?\n",
            "There is so much with it.\n",
            "My emotional will be an ever changing experience.\n",
            "Keep thy foot when thou shalt say, I have been overeating over the spirit of the article I wasn’t letting the creativity flow.\n",
            "It is mad: and of the oath of God.\n",
            "• What choices are you going through something a lot these days I work more than a dead lion.\n",
            "My mom, my husband, my kids and she can reduce the clutter in her home.\n",
            "Refresh Again — By Shamelle, The Enhanced Life Just as it seems like she is having a hard time controlling her actions.\n",
            "To me, being a die-hard independent; a woman who had been what we do, how we take it, and built great bulwarks against it: Now there was power; but they had no comforter; and on the problem.\n",
            "Illness can come from love and be love to do what you eat.\n",
            "You can have the energy to put at least 10% of your life, that balance may vary for each individual, but one aspect most people agree on is that they might see that the problem temporarily and accepted your situation, take a few lessons I’ve learned the hard way.\n",
            "For if they happened at night, and after awhile, dried up to your senses and they had so done: this is a defence: but the abundance of trees in them of all his labour that he is a child, and thy princes eat in the snare; so are the ones that will support you when you are probably doing something wrong.\n",
            "With a little put off.\n",
            "I have Mars in Cancer, the moon’s North Node in the name of work-life balance, one does involve in other people’s lives.\n",
            "Balance is a quick comparison and contrast of what effect your choices are you most grateful for?\n",
            "When you are juggling a whole new way to balance life, it is really enjoying any of the foolish wearieth every one of our life so that no man can find it out?\n",
            "He that observeth the wind returneth again according to the see saw.\n",
            "Again, I considered in my life.\n",
            "But he realized that I had been completely self- driven for 14 years, to a man what shall be a total chaos in all aspects of your problem.\n",
            "This also is vanity.\n",
            "I have seen under the sun: and behold the sun: and behold the tears of such as were oppressed, and they were forgotten in the days of thy youth, while the evil days come not, nor the clouds shall not reap.\n",
            "Each child gets to choose just one thing, we could have spent more hours at his right hand; but a fool's voice is known that it never grips you enough to implement first.\n",
            "We have created this world and yet other days more focus will be many things that drain your energy is going to disrupt the balance in our lives.\n",
            "Voice the emotions and use them appropriately.\n",
            "I still live below my means and take great pleasure in them; While the sun, and it is just the surface of life balance.\n",
            "There is an handful with quietness, than both the hands the house of God, and be love to do it that thou shouldest not vow, than that a solution will come.\n",
            "I think that what we’re all seeking is a topic that I did some really good, creative, performance-type work in progress.\n",
            "Is Life Balance — By Jean, Stress to Power Our lives are balanced.\n",
            "There is one of joy and bliss that we do it, when and where you want – slowly and one at a time, your best work is part of the Midlife Crisis Here's a little girl, I loved to do.\n",
            "What matters is not sustainable.\n",
            "Emotional – We go to the environment through touch, heat, movement.\n",
            "I wanted to go for a bird of the things that are done dealing with this situation.\n",
            "She is not balanced, sooner or later it will impact our life requires more attention than other.\n",
            "And this also is a wicked man that prolongeth his life in his own flesh.\n",
            "Without taking the responsibility to make decisions for you, then you will keep trying to get very clear about what emotional balance for reasons that include: Ups and Downs.\n",
            "Be not rash with thy might; for there is a child, and thy princes eat in the process.\n",
            "This is a defence: but the wheel of life balance.\n",
            "How do you think this framework applies in your life, an important aspect to balancing life is that life balance be, if we are giving each area the necessary devotion so that he is in.\n",
            "How could I write about living a balanced diet would\n",
            "====================\n",
            "Finality.\n",
            "The wise man's heart to give the sacrifice of fools: for they shall die: but the sinner he giveth travail, to gather stones together; a time there for every purpose and for every purpose there is no good in them, but for a rest.\n",
            "Make Time for Fun I find more bitter than death the woman, whose heart is at his left.\n",
            "By being kind to myself I am driven to express myself through creativity.\n",
            "Something we can look when we are failing.\n",
            "It will take practice but be cognizant while doing this so my physical body.\n",
            "A financial practice encouraged by most every expert is to sign yourself up for something that seems so self-evident to most people, it’s remarkable how many of the wise is in heaven, and thou upon earth: therefore let thy heart cheer thee in the grave, whither thou goest.\n",
            "Is she rewarding herself in order to clear my mind!\n",
            "It was a little ditty that goes something like danced in a different space than the proud in spirit.\n",
            "So, right now, I will prove thee with mirth, therefore enjoy pleasure: and, behold, all was vanity and vexation of spirit.\n",
            "She will never have to have to take this to the end of a mental decision than a dead lion.\n",
            "Don’t be afraid of that person as I keep rotating them, such that even if I didn’t need all those; I just wanted to live longer and are functioning well.\n",
            "Say not thou, What is the cause that the days of his heart.\n",
            "I hear is that life balance by researching books and trying to balance your life, ask yourself: • What is the cause and keep the king's commandment, and that he desireth, yet God giveth him: for it is his eye satisfied with seeing, nor the ear filled with good, and also that one event happeneth to the end of a lasting emotional impact.\n",
            "Acting on it every day.\n",
            "I drifted off to play until the end of a thing than the cry of him that ruleth among fools.\n",
            "The closer all of our bodies, minds, and spirits.\n",
            "~ Albert Einstein Considering the nature of the universe emulates itself on all aspects of our bodies, minds, and spirits.\n",
            "Take Breaks I plan on taking lots of past lives being at home and sheltered from the ruler: Folly is set in them of all of the hands full with travail and vexation of spirit.\n",
            "This is a smile on my cards.\n",
            "Random Tips & Ideas Here are some small tips on what would become the most out of trees.\n",
            "With seeing that which befalleth the sons of men is fully set in them to pare it down so you don’t have trouble balancing our lives with a picturesque fishing village like this one, and purchase a small and beautiful change in routine often comes along with water in right quantity, and not just involve cleanup but end up a solution will come.\n",
            "They naturally support and feed each other up and down we moved, giggling playfully, hair blowing with every secret thing, whether it be great if we are always devoting equal time to mourn, and a time there for every purpose and for those around you.\n",
            "I think balance is to find balance between creativity and family?\n",
            "All of the poor, and violent perverting of judgment and justice in a sewer and we would lean to one place?\n",
            "It might encourage me to notice small signs that the pyramid is the end that man should find nothing after him.\n",
            "Hey, maybe I should leave it unto the place of the time we have.\n",
            "Trust me, productivity takes a NOSE DIVE when you’re spending your days in a combined region of thoughts and environment.\n",
            "• Stacey: Of all the thinking he has the financial cushion to do with my kids.\n",
            "Behold that which thou takest under the sun all the people, even of all men; and the bad, and then somehow try to stay suspended in space…before one side or the golden bowl be broken, or the stars, be not darkened, nor the ear filled with good, and sinneth not.\n",
            "The joy I get from writing and after awhile, dried up to 3 days.\n",
            "With that being said, I know that it was 12 hour days as a profession.\n",
            "Trouble is, the more they’ll act as support for each area, and the spirit of the rich in fruits, vegetables, nuts and grains can improve the way you both get the maximum experience from interacting and exchanging thoughts and feelings or are problematic and not communicating it can leave you feeling disconnected and unbalanced in your career might not be happy if we are dealing with.\n",
            "Boxing it away would be if we could have spent more hours at the office.\n",
            "I use this philosophy\n",
            "====================\n",
            "Finality.\n",
            "All that cometh after the king? even that which shall be changed.\n",
            "Every one of definition.\n",
            "The maximum is the gift of God.\n",
            "Our heart is at his right hand; but a woman among all things that are not in thy bedchamber: for a man to whom God hath given him power to make a list of how you talk and think.\n",
            "This freed me up to 3 days.\n",
            "My sister wasn’t failing every time she fell off of the rich will not be happy if we are humans.\n",
            "I work more than the highest regardeth; and there is no discharge in that wherein he laboureth?\n",
            "This is an handful with quietness, than both they, which hath been already done.\n",
            "Or, if all of these will contribute to you to pull the dominant members in the multitude of business; and a threefold cord is not based on the restrictions that come after shall not reap.\n",
            "No matter how good we become at balancing life, we will consistently pursue happiness in ways that are taking away your time management which is wanting cannot be numbered.\n",
            "We belong to social groups, churches, organizations, and volunteer our time to focus on the playground of my vanity: there is nothing that you are in the night.\n",
            "For who can make that straight, which he may give to him that is done under the sun.\n",
            "Blessed art thou, O land, when thy king is the end of all that dough, you can get so good at dealing with an issue regarding another person define what you love.\n",
            "There is a wonderful metaphor for life balance may morph and change as your life balance framework that works.\n",
            "Just like a balanced life when I had a metal slide, tall with a high degree of freedom and a thing he loves to do everything at once.\n",
            "For he knoweth not his time: also he hath neither child nor brother: yet is there to the problem temporarily and accepted your situation, take a backseat sometimes, and life will be spent at work.\n",
            "And I’m also going through something a lot about his issue, which is active during sensations of happiness and positive emotion.\n",
            "• Keep them achievable Once you have an easy time following my own money, my LIFE outside of Bunny.\n",
            "For to him that is the whole subject.\n",
            "Put away most of us have trouble balancing our lives together: family life, career, education, hobbies, and most importantly time to every purpose and for those rare moments of middle ground.\n",
            "Some of us struggle to put it to be shaky.\n",
            "Life is about balancing life is created because we are not honouring your values and priorities?\n",
            "When you spend every evening as a shadow? for who can tell him?\n",
            "What are you going through the practice of mindfulness is a defence, and money is a man is sweet, whether he shall be shut in the day of death: and there is a powerful way to balance them.\n",
            "You might have to work on my walking shoes, putting a leash on my screen may no long be the sole-proprietor of a thing? a man's wisdom is a process, not a victim of circumstance.\n",
            "And they happen to children and to seek out wisdom, and the needs of our element – out of your life is an essential component of happiness.\n",
            "If you are not focusing on time spent on certain activities, provides me the insight I need a break.\n",
            "So, starting today I’m going to disrupt the balance that you do.\n",
            "• Is there a project that involves writing at the whole duty of man.\n",
            "This is the foundation of EVERYTHING healthy and healing ways.\n",
            "I think that perhaps we need to work on the needs of my emails and projects.\n",
            "How could I write about living a balanced life doesn’t require you to improve their lives.\n",
            "• Mare: What does Mare want to keep the king's commandment, and that which is done under the sun?\n",
            "It improves your attitude and gives you energy for yourself as well as my emotional self.\n",
            "When you spend time with myself and with everyone.\n",
            "Our heart is at his work or create a sanctuary for herself in a problem it is just the right path.\n",
            "As long as I can hope for.\n",
            "Does he want to be able to deal with in life, a small and beautiful change in routine often comes along with solutions to your life will flow a lot of inner drive, but I’ve never been tempted by the sadness of the earth is for the owners thereof to their word, take responsibility and earn money and in six months, maybe nine, you will not be satisfied with riches; neither saith he, For whom do I reconcile this with a wave in the days of his vain life which he hath much sorrow and wrath with his sickness.\n",
            "When you feel connected?\n",
            "And because we’ve kept our lives are frit\n",
            "====================\n"
          ],
          "name": "stdout"
        }
      ]
    },
    {
      "cell_type": "markdown",
      "metadata": {
        "id": "zjjEN2Tafhl2"
      },
      "source": [
        "For bulk generation, you can generate a large amount of text to a file and sort out the samples locally on your computer. The next cell will generate a generated text file with a unique timestamp.\n",
        "\n",
        "You can rerun the cells as many times as you want for even more generated texts!"
      ]
    },
    {
      "cell_type": "code",
      "metadata": {
        "id": "Fa6p6arifSL0"
      },
      "source": [
        "gen_file = 'gpt2_gentext_{:%Y%m%d_%H%M%S}.txt'.format(datetime.utcnow())\n",
        "\n",
        "gpt2.generate_to_file(sess,\n",
        "                      destination_path=gen_file,\n",
        "                      length=500,\n",
        "                      temperature=0.7,\n",
        "                      nsamples=100,\n",
        "                      batch_size=20\n",
        "                      )"
      ],
      "execution_count": null,
      "outputs": []
    },
    {
      "cell_type": "code",
      "metadata": {
        "id": "0-LRex8lfv1g"
      },
      "source": [
        "# may have to run twice to get file to download\n",
        "files.download(gen_file)"
      ],
      "execution_count": null,
      "outputs": []
    },
    {
      "cell_type": "markdown",
      "metadata": {
        "id": "QQAN3M6RT7Kj"
      },
      "source": [
        "## Generate Text From The Pretrained Model\n",
        "\n",
        "If you want to generate text from the pretrained model, not a finetuned model, pass `model_name` to `gpt2.load_gpt2()` and `gpt2.generate()`.\n",
        "\n",
        "This is currently the only way to generate text from the 774M or 1558M models with this notebook."
      ]
    },
    {
      "cell_type": "code",
      "metadata": {
        "id": "hsUd_jHgUZnD",
        "colab": {
          "base_uri": "https://localhost:8080/",
          "height": 158
        },
        "outputId": "4e0c8a3f-3527-41c4-e3fe-3357f3f8f6c2"
      },
      "source": [
        "model_name = \"774M\"\n",
        "\n",
        "gpt2.download_gpt2(model_name=model_name)"
      ],
      "execution_count": null,
      "outputs": [
        {
          "output_type": "stream",
          "text": [
            "Fetching checkpoint: 1.05Mit [00:00, 354Mit/s]                                                      \n",
            "Fetching encoder.json: 1.05Mit [00:00, 131Mit/s]                                                    \n",
            "Fetching hparams.json: 1.05Mit [00:00, 279Mit/s]                                                    \n",
            "Fetching model.ckpt.data-00000-of-00001: 3.10Git [00:23, 131Mit/s]                                  \n",
            "Fetching model.ckpt.index: 1.05Mit [00:00, 380Mit/s]                                                \n",
            "Fetching model.ckpt.meta: 2.10Mit [00:00, 226Mit/s]                                                 \n",
            "Fetching vocab.bpe: 1.05Mit [00:00, 199Mit/s]                                                       \n"
          ],
          "name": "stderr"
        }
      ]
    },
    {
      "cell_type": "code",
      "metadata": {
        "id": "BAe4NpKNUj2C",
        "colab": {
          "base_uri": "https://localhost:8080/",
          "height": 124
        },
        "outputId": "b09bfe1d-2ff8-4b8a-fffb-273d28d5d4ae"
      },
      "source": [
        "sess = gpt2.start_tf_sess()\n",
        "\n",
        "gpt2.load_gpt2(sess, model_name=model_name)"
      ],
      "execution_count": null,
      "outputs": [
        {
          "output_type": "stream",
          "text": [
            "WARNING: Logging before flag parsing goes to stderr.\n",
            "W0828 18:37:58.571830 139905369159552 deprecation.py:323] From /usr/local/lib/python3.6/dist-packages/tensorflow/python/training/saver.py:1276: checkpoint_exists (from tensorflow.python.training.checkpoint_management) is deprecated and will be removed in a future version.\n",
            "Instructions for updating:\n",
            "Use standard file APIs to check for files with this prefix.\n"
          ],
          "name": "stderr"
        },
        {
          "output_type": "stream",
          "text": [
            "Loading pretrained model models/774M/model.ckpt\n"
          ],
          "name": "stdout"
        }
      ]
    },
    {
      "cell_type": "code",
      "metadata": {
        "id": "-xInIZKaU104",
        "colab": {
          "base_uri": "https://localhost:8080/",
          "height": 797
        },
        "outputId": "56348e28-7d08-45e3-c859-f26c0efd066d"
      },
      "source": [
        "gpt2.generate(sess,\n",
        "              model_name=model_name,\n",
        "              prefix=\"The secret of life is\",\n",
        "              length=100,\n",
        "              temperature=0.7,\n",
        "              top_p=0.9,\n",
        "              nsamples=5,\n",
        "              batch_size=5\n",
        "              )"
      ],
      "execution_count": null,
      "outputs": [
        {
          "output_type": "stream",
          "text": [
            "The secret of life is that it's really easy to make it complicated,\" said Bill Nye, the host of the popular science show \"Bill Nye the Science Guy.\" \"And this is one of the reasons why we all need to be smarter about science, because we can't keep up with the amazing things that are going on all the time.\"\n",
            "\n",
            "While Nye is correct that \"everything that's going on all the time\" is making the world a better place, he misses the point. This is not\n",
            "====================\n",
            "The secret of life is in the rhythm of the universe. It's not a mystery. It's not a mystery to me. It's the nature of the universe. It's the beauty of the universe. It's the way the universe works. It's the way the universe is. It's the way the universe is going to work. It's the way the universe is. It's the way the universe is. It's the way the universe is. It's the way the universe is. It's the way\n",
            "====================\n",
            "The secret of life is in the universe.\n",
            "\n",
            "\n",
            "-\n",
            "\n",
            "The Red Devil\n",
            "\n",
            "It's the end of the world as we know it, and the only thing that can save us is a band of super-powered individuals known as the Red Devil.\n",
            "\n",
            "\n",
            "The Red Devil is a group of super-powered individuals who are seeking the secret of life and the only way they know how to do it is by taking on the roles of a variety of different super-powered individuals, each of which has their own\n",
            "====================\n",
            "The secret of life is in the mixing of the elements, and it is the mixing of the elements that makes life possible.\"\n",
            "\n",
            "But in the world of food science, the idea of a \"complex\" or \"complexity\" is almost entirely imaginary.\n",
            "\n",
            "As a scientist, I'm fascinated by the question of how life first began.\n",
            "\n",
            "It's the question that drives my work and the work of the scientists who work on it.\n",
            "\n",
            "My current research is exploring how microbes work in the first moments\n",
            "====================\n",
            "The secret of life is the journey of life, the search for the truth.\n",
            "\n",
            "4.4.2. The last thing you know\n",
            "\n",
            "There is nothing more important than the last thing you know.\n",
            "\n",
            "4.4.3. The little things that make all the difference\n",
            "\n",
            "The little things that make all the difference.\n",
            "\n",
            "4.4.4. The truth is the best teacher\n",
            "\n",
            "The truth is the best teacher.\n",
            "\n",
            "4.4.5. The truth is what\n",
            "====================\n"
          ],
          "name": "stdout"
        }
      ]
    },
    {
      "cell_type": "markdown",
      "metadata": {
        "id": "ig-KVgkCDCKD"
      },
      "source": [
        "# Etcetera\n",
        "\n",
        "If the notebook has errors (e.g. GPU Sync Fail), force-kill the Colaboratory virtual machine and restart it with the command below:"
      ]
    },
    {
      "cell_type": "code",
      "metadata": {
        "id": "rIHiVP53FnsX"
      },
      "source": [
        "!kill -9 -1"
      ],
      "execution_count": null,
      "outputs": []
    },
    {
      "cell_type": "markdown",
      "metadata": {
        "id": "wmTXWNUygS5E"
      },
      "source": [
        "# LICENSE\n",
        "\n",
        "MIT License\n",
        "\n",
        "Copyright (c) 2019 Max Woolf\n",
        "\n",
        "Permission is hereby granted, free of charge, to any person obtaining a copy\n",
        "of this software and associated documentation files (the \"Software\"), to deal\n",
        "in the Software without restriction, including without limitation the rights\n",
        "to use, copy, modify, merge, publish, distribute, sublicense, and/or sell\n",
        "copies of the Software, and to permit persons to whom the Software is\n",
        "furnished to do so, subject to the following conditions:\n",
        "\n",
        "The above copyright notice and this permission notice shall be included in all\n",
        "copies or substantial portions of the Software.\n",
        "\n",
        "THE SOFTWARE IS PROVIDED \"AS IS\", WITHOUT WARRANTY OF ANY KIND, EXPRESS OR\n",
        "IMPLIED, INCLUDING BUT NOT LIMITED TO THE WARRANTIES OF MERCHANTABILITY,\n",
        "FITNESS FOR A PARTICULAR PURPOSE AND NONINFRINGEMENT. IN NO EVENT SHALL THE\n",
        "AUTHORS OR COPYRIGHT HOLDERS BE LIABLE FOR ANY CLAIM, DAMAGES OR OTHER\n",
        "LIABILITY, WHETHER IN AN ACTION OF CONTRACT, TORT OR OTHERWISE, ARISING FROM,\n",
        "OUT OF OR IN CONNECTION WITH THE SOFTWARE OR THE USE OR OTHER DEALINGS IN THE\n",
        "SOFTWARE."
      ]
    }
  ]
}